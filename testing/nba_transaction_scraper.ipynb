{
 "cells": [
  {
   "cell_type": "code",
   "execution_count": 55,
   "id": "73b9238f-576b-4b1c-8adc-a2d50cc2983f",
   "metadata": {},
   "outputs": [],
   "source": [
    "import requests\n",
    "from bs4 import BeautifulSoup\n",
    "import datetime as dt\n",
    "import pandas as pd\n",
    "\n",
    "def nba_transactions(season:int):\n",
    "    \n",
    "    def get_html(url, max_iter=50):\n",
    "    while True:\n",
    "        try:\n",
    "            req = requests.get(url)\n",
    "            return req\n",
    "        except:\n",
    "            i += 1\n",
    "            if i == max_iter:\n",
    "                raise StopIteration(f'Max iterations met {max_iter}')\n",
    "            else:\n",
    "                continue\n",
    "                \n",
    "    month_dict = {\n",
    "        'January':1,\n",
    "        'February':2,\n",
    "        'March':3,\n",
    "        'April':4,\n",
    "        'May':5,\n",
    "        'June':6,\n",
    "        'July':7,\n",
    "        'August':8,\n",
    "        'September':9,\n",
    "        'October':10,\n",
    "        'November':11,\n",
    "        'December':12,\n",
    "    }\n",
    "    \n",
    "    transactions = []\n",
    "    for season in range(1998, 2023):\n",
    "        url = f'https://www.basketball-reference.com/leagues/NBA_{season}_transactions.html'\n",
    "        req = get_html(url)\n",
    "        html = BeautifulSoup(req.text, 'html.parser')\n",
    "        ul = html.find(class_ = 'page_index')\n",
    "        for item in ul.find_all(['p','span']):\n",
    "            if item.name == 'span':\n",
    "                date_text = item.text.replace(',', '').replace('?','1').split()\n",
    "                year = int(date_text[2])\n",
    "                month = month_dict[date_text[0]]\n",
    "                day = int(date_text[1])\n",
    "                date = dt.date(year, month, day)\n",
    "                continue\n",
    "            else:\n",
    "                transactions.append((date, item.text))\n",
    "    return transactions"
   ]
  },
  {
   "cell_type": "code",
   "execution_count": 72,
   "id": "5716c3da-8f5e-4893-8964-916257a75720",
   "metadata": {},
   "outputs": [],
   "source": [
    "df = pd.DataFrame(transactions, columns = ['date','transaction'])\n",
    "df = df.drop_duplicates(['date','transaction']).reset_index(drop=True)\n",
    "df.to_csv('test_data/nba_transactions', index=False)"
   ]
  }
 ],
 "metadata": {
  "kernelspec": {
   "display_name": "nba",
   "language": "python",
   "name": "nba"
  },
  "language_info": {
   "codemirror_mode": {
    "name": "ipython",
    "version": 3
   },
   "file_extension": ".py",
   "mimetype": "text/x-python",
   "name": "python",
   "nbconvert_exporter": "python",
   "pygments_lexer": "ipython3",
   "version": "3.8.13"
  }
 },
 "nbformat": 4,
 "nbformat_minor": 5
}
