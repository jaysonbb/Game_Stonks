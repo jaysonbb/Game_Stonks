{
 "cells": [
  {
   "cell_type": "markdown",
   "id": "b050d250-aeaa-44a1-9b67-9896fc528eb6",
   "metadata": {},
   "source": [
    "### Player rating: Self-Comparisoin"
   ]
  },
  {
   "cell_type": "code",
   "execution_count": 2,
   "id": "06413cf6-4114-4ba7-b772-fbaba620ad3f",
   "metadata": {},
   "outputs": [],
   "source": [
    "import pandas as pd\n",
    "import seaborn as sns"
   ]
  },
  {
   "cell_type": "code",
   "execution_count": 7,
   "id": "1864ede4-30a4-41d2-b0e2-95e509589906",
   "metadata": {},
   "outputs": [],
   "source": [
    "data = pd.read_csv('test_data/2021_fantasy_scores.csv')\n",
    "data = data[['player_name','player_id','matchup','game_date','fantasy_score','fantasy_score_cumul']]"
   ]
  },
  {
   "cell_type": "code",
   "execution_count": 14,
   "id": "19d1fae9-81fa-4502-861e-6754c9dc6a2c",
   "metadata": {},
   "outputs": [
    {
     "data": {
      "text/html": [
       "<div>\n",
       "<style scoped>\n",
       "    .dataframe tbody tr th:only-of-type {\n",
       "        vertical-align: middle;\n",
       "    }\n",
       "\n",
       "    .dataframe tbody tr th {\n",
       "        vertical-align: top;\n",
       "    }\n",
       "\n",
       "    .dataframe thead th {\n",
       "        text-align: right;\n",
       "    }\n",
       "</style>\n",
       "<table border=\"1\" class=\"dataframe\">\n",
       "  <thead>\n",
       "    <tr style=\"text-align: right;\">\n",
       "      <th></th>\n",
       "      <th>player_name</th>\n",
       "      <th>max_fantasy_score</th>\n",
       "      <th>min_fantasy_score</th>\n",
       "    </tr>\n",
       "  </thead>\n",
       "  <tbody>\n",
       "    <tr>\n",
       "      <th>0</th>\n",
       "      <td>Nikola Jokic</td>\n",
       "      <td>84.3</td>\n",
       "      <td>21.9</td>\n",
       "    </tr>\n",
       "    <tr>\n",
       "      <th>1</th>\n",
       "      <td>Kyrie Irving</td>\n",
       "      <td>83.3</td>\n",
       "      <td>11.3</td>\n",
       "    </tr>\n",
       "    <tr>\n",
       "      <th>2</th>\n",
       "      <td>Karl-Anthony Towns</td>\n",
       "      <td>79.0</td>\n",
       "      <td>16.4</td>\n",
       "    </tr>\n",
       "    <tr>\n",
       "      <th>3</th>\n",
       "      <td>Giannis Antetokounmpo</td>\n",
       "      <td>78.5</td>\n",
       "      <td>16.0</td>\n",
       "    </tr>\n",
       "    <tr>\n",
       "      <th>4</th>\n",
       "      <td>Trae Young</td>\n",
       "      <td>78.1</td>\n",
       "      <td>8.1</td>\n",
       "    </tr>\n",
       "    <tr>\n",
       "      <th>...</th>\n",
       "      <td>...</td>\n",
       "      <td>...</td>\n",
       "      <td>...</td>\n",
       "    </tr>\n",
       "    <tr>\n",
       "      <th>532</th>\n",
       "      <td>David Johnson</td>\n",
       "      <td>0.0</td>\n",
       "      <td>-2.0</td>\n",
       "    </tr>\n",
       "    <tr>\n",
       "      <th>533</th>\n",
       "      <td>Jaime Echenique</td>\n",
       "      <td>0.0</td>\n",
       "      <td>0.0</td>\n",
       "    </tr>\n",
       "    <tr>\n",
       "      <th>534</th>\n",
       "      <td>Jordan Goodwin</td>\n",
       "      <td>-0.8</td>\n",
       "      <td>-2.0</td>\n",
       "    </tr>\n",
       "    <tr>\n",
       "      <th>535</th>\n",
       "      <td>Matt Ryan</td>\n",
       "      <td>-1.0</td>\n",
       "      <td>-1.0</td>\n",
       "    </tr>\n",
       "    <tr>\n",
       "      <th>536</th>\n",
       "      <td>Zylan Cheatham</td>\n",
       "      <td>-5.0</td>\n",
       "      <td>-5.0</td>\n",
       "    </tr>\n",
       "  </tbody>\n",
       "</table>\n",
       "<p>537 rows × 3 columns</p>\n",
       "</div>"
      ],
      "text/plain": [
       "               player_name  max_fantasy_score  min_fantasy_score\n",
       "0             Nikola Jokic               84.3               21.9\n",
       "1             Kyrie Irving               83.3               11.3\n",
       "2       Karl-Anthony Towns               79.0               16.4\n",
       "3    Giannis Antetokounmpo               78.5               16.0\n",
       "4               Trae Young               78.1                8.1\n",
       "..                     ...                ...                ...\n",
       "532          David Johnson                0.0               -2.0\n",
       "533        Jaime Echenique                0.0                0.0\n",
       "534         Jordan Goodwin               -0.8               -2.0\n",
       "535              Matt Ryan               -1.0               -1.0\n",
       "536         Zylan Cheatham               -5.0               -5.0\n",
       "\n",
       "[537 rows x 3 columns]"
      ]
     },
     "execution_count": 14,
     "metadata": {},
     "output_type": "execute_result"
    }
   ],
   "source": [
    "fs_range = data[['player_name','fantasy_score']].groupby('player_name').agg({'fantasy_score':['max','min']})\n",
    "fs_range.columns = ['max_fantasy_score','min_fantasy_score']\n",
    "fs_range = fs_range.sort_values(by='max_fantasy_score',ascending=False).reset_index()\n",
    "fs_range"
   ]
  }
 ],
 "metadata": {
  "kernelspec": {
   "display_name": "nba",
   "language": "python",
   "name": "nba"
  },
  "language_info": {
   "codemirror_mode": {
    "name": "ipython",
    "version": 3
   },
   "file_extension": ".py",
   "mimetype": "text/x-python",
   "name": "python",
   "nbconvert_exporter": "python",
   "pygments_lexer": "ipython3",
   "version": "3.8.13"
  }
 },
 "nbformat": 4,
 "nbformat_minor": 5
}
