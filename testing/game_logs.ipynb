{
 "cells": [
  {
   "cell_type": "code",
   "execution_count": 11,
   "id": "9b2f7a87-ac57-467b-814a-9501bd1dcd99",
   "metadata": {},
   "outputs": [],
   "source": [
    "from nba_api.stats.static import players\n",
    "from nba_api.stats.endpoints import playergamelog\n",
    "from IPython.display import clear_output\n",
    "import pandas as pd "
   ]
  },
  {
   "cell_type": "code",
   "execution_count": 12,
   "id": "69174917-0b11-4a74-971a-1779b3dbe008",
   "metadata": {},
   "outputs": [],
   "source": [
    "# pass in year as a string to get the player game logs for that season\n",
    "def retrieve_game_logs(season, players=None):\n",
    "    assert type(season) == str\n",
    "    assert int(season)\n",
    "    \n",
    "    player_details = pd.read_csv('test_data/players.csv')\n",
    "    player_details = player_details.loc[(player_details['year_start'] <= int(season)) & (player_details['year_end'] >= int(season))]\n",
    "    \n",
    "    if players:\n",
    "        player_details = player_details.loc[player_details['player_id'].isin(players)]\n",
    "    \n",
    "    season_players = [{'id':p[0], 'full_name':p[1]} for p in player_details.values]\n",
    "    queue = [{'id':p[0], 'full_name':p[1]} for p in player_details.values]\n",
    "    attempts = {p['id']:1 for p in season_players}\n",
    "    total = len(season_players)\n",
    "    \n",
    "    game_logs = []\n",
    "    while len(queue) > 0:\n",
    "        for player in season_players:\n",
    "            clear_output(wait=True)\n",
    "            completed = total - len(queue)\n",
    "            print(f\"{round((completed / total) * 100, 2)}% completion\")\n",
    "            if player in queue:\n",
    "                print(f\"Retrieving {season} game logs for {player['full_name']}\")\n",
    "                try:\n",
    "                    game_log = playergamelog.PlayerGameLog(player_id=player['id'], season=season).get_data_frames()[0]\n",
    "                    game_logs.append(game_log)\n",
    "                    queue.remove(player)\n",
    "                except:\n",
    "                    i = attempts[player['id']]\n",
    "                    if i < 50:\n",
    "                        print(f\"Attempt {i} FAILED to retrieve game logs for {player['full_name']}. Queued for retry.\")\n",
    "                        attempts[player['id']] = i + 1\n",
    "                    else:\n",
    "                        print(f\"Attempt {i} FAILED to retrieve game logs for {player['full_name']}. Max attempts for player has been met.\")\n",
    "                        queue.remove(player)\n",
    "            else:\n",
    "                continue\n",
    "                \n",
    "    print('100%')\n",
    "    df = pd.concat(game_logs)\n",
    "    df.columns = [col.lower() for col in df.columns]\n",
    "    \n",
    "    player_names = {p['id']:p['full_name'] for p in season_players}\n",
    "    df['player_name'] = df.apply(lambda x: player_names[x['player_id']], axis=1)\n",
    "    \n",
    "    df = df[['season_id', 'player_id', 'player_name', 'game_id', 'game_date', 'matchup', 'wl',\n",
    "             'min', 'fgm', 'fga', 'fg_pct', 'fg3m', 'fg3a', 'fg3_pct', 'ftm', 'fta',\n",
    "             'ft_pct', 'oreb', 'dreb', 'reb', 'ast', 'stl', 'blk', 'tov', 'pf',\n",
    "             'pts', 'plus_minus', 'video_available']]\n",
    "    return df"
   ]
  },
  {
   "cell_type": "code",
   "execution_count": 14,
   "id": "ad94d1b5-c062-4e30-a640-abefb2373a70",
   "metadata": {},
   "outputs": [
    {
     "name": "stdout",
     "output_type": "stream",
     "text": [
      "100%\n"
     ]
    }
   ],
   "source": [
    "for season in range(2015, 2022):\n",
    "    df = retrieve_game_logs(str(season))\n",
    "    df.to_csv(f'test_data/{season}_game_logs.csv',index=False)"
   ]
  }
 ],
 "metadata": {
  "kernelspec": {
   "display_name": "nba",
   "language": "python",
   "name": "nba"
  },
  "language_info": {
   "codemirror_mode": {
    "name": "ipython",
    "version": 3
   },
   "file_extension": ".py",
   "mimetype": "text/x-python",
   "name": "python",
   "nbconvert_exporter": "python",
   "pygments_lexer": "ipython3",
   "version": "3.8.13"
  }
 },
 "nbformat": 4,
 "nbformat_minor": 5
}
