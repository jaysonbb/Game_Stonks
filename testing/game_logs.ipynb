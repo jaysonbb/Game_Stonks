{
 "cells": [
  {
   "cell_type": "code",
   "execution_count": 1,
   "id": "9b2f7a87-ac57-467b-814a-9501bd1dcd99",
   "metadata": {},
   "outputs": [],
   "source": [
    "from nba_api.stats.static import players\n",
    "from nba_api.stats.endpoints import playergamelog\n",
    "from IPython.display import clear_output\n",
    "import pandas as pd "
   ]
  },
  {
   "cell_type": "code",
   "execution_count": 2,
   "id": "69174917-0b11-4a74-971a-1779b3dbe008",
   "metadata": {},
   "outputs": [],
   "source": [
    "# pass in year as a string to get the player game logs for that season\n",
    "def retrieve_game_logs(season):\n",
    "    assert type(season) == str\n",
    "    assert int(season)\n",
    "    \n",
    "    active_players = [p for p in players.get_active_players()]\n",
    "    player_list = [p for p in players.get_active_players()]\n",
    "    \n",
    "    game_logs = []\n",
    "    total = len(active_players)\n",
    "    while len(player_list) > 0:\n",
    "        for player in active_players:\n",
    "            clear_output(wait=True)\n",
    "            if player in player_list:\n",
    "                name = player['full_name']\n",
    "                completed = total - len(player_list)\n",
    "                print(f'{round((completed/total)*100,2)}% completion')\n",
    "                print(f'Retrieving {season} game logs for {name}')\n",
    "                try:\n",
    "                    game_log = playergamelog.PlayerGameLog(player_id=player['id'], season=season).get_data_frames()[0]\n",
    "                    game_logs.append(game_log)\n",
    "                    player_list.remove(player)\n",
    "                except:\n",
    "                    print(f'FAILED to retrieve logs for {name}, we\\'ll get em next time.')\n",
    "            else:\n",
    "                continue\n",
    "                \n",
    "    print('100%')\n",
    "    del active_players\n",
    "    return pd.concat(game_logs)"
   ]
  },
  {
   "cell_type": "code",
   "execution_count": null,
   "id": "ad94d1b5-c062-4e30-a640-abefb2373a70",
   "metadata": {},
   "outputs": [
    {
     "name": "stdout",
     "output_type": "stream",
     "text": [
      "99.83% completion\n",
      "Retrieving 2020 game logs for Lou Williams\n"
     ]
    }
   ],
   "source": [
    "df = retrieve_game_logs('2020')\n",
    "\n",
    "player_names = {p['id']:p['full_name'] for p in players.get_active_players()}\n",
    "df.columns = [col.lower() for col in df.columns]"
   ]
  },
  {
   "cell_type": "code",
   "execution_count": null,
   "id": "4b1ca29f-8a81-45dc-8c9c-bb037d321db5",
   "metadata": {},
   "outputs": [],
   "source": [
    "df['player_name'] = df.apply(lambda x: player_names[x['player_id']], axis=1)"
   ]
  },
  {
   "cell_type": "code",
   "execution_count": null,
   "id": "93bf61d3-c51f-4102-ad0d-f4750fc15acb",
   "metadata": {},
   "outputs": [],
   "source": [
    "df = df[['season_id', 'player_id', 'player_name', 'game_id', 'game_date', 'matchup', 'wl',\n",
    "       'min', 'fgm', 'fga', 'fg_pct', 'fg3m', 'fg3a', 'fg3_pct', 'ftm', 'fta',\n",
    "       'ft_pct', 'oreb', 'dreb', 'reb', 'ast', 'stl', 'blk', 'tov', 'pf',\n",
    "       'pts', 'plus_minus', 'video_available']]"
   ]
  },
  {
   "cell_type": "code",
   "execution_count": 34,
   "id": "df146706-3bff-473e-b65e-c4d7e5d4a808",
   "metadata": {},
   "outputs": [],
   "source": [
    "df.to_csv('test_data/2020_game_logs.csv',index=False)"
   ]
  }
 ],
 "metadata": {
  "kernelspec": {
   "display_name": "nba",
   "language": "python",
   "name": "nba"
  },
  "language_info": {
   "codemirror_mode": {
    "name": "ipython",
    "version": 3
   },
   "file_extension": ".py",
   "mimetype": "text/x-python",
   "name": "python",
   "nbconvert_exporter": "python",
   "pygments_lexer": "ipython3",
   "version": "3.8.13"
  }
 },
 "nbformat": 4,
 "nbformat_minor": 5
}
