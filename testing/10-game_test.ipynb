{
 "cells": [
  {
   "cell_type": "code",
   "execution_count": 30,
   "id": "22e8958d-6157-40e1-9f71-9f66589c9617",
   "metadata": {},
   "outputs": [],
   "source": [
    "import pandas as pd\n",
    "import seaborn as sns"
   ]
  },
  {
   "cell_type": "code",
   "execution_count": 31,
   "id": "e858ed87-6a6e-4e72-bb39-b620ec290715",
   "metadata": {},
   "outputs": [],
   "source": [
    "data = pd.read_csv('test_data/2021_fantasy_scores.csv')\n",
    "# only keep these columns\n",
    "data = data[['player_id','player_name','game_id','game_date','fantasy_score','fantasy_score_cumul']]"
   ]
  },
  {
   "cell_type": "code",
   "execution_count": 32,
   "id": "dcc66cbd-f440-4cc7-86f5-57bd0090aa19",
   "metadata": {},
   "outputs": [],
   "source": [
    "def game_interval(rn, interval=10):\n",
    "    assert interval > 1\n",
    "    if rn % interval == 0:\n",
    "        return rn // interval - 1\n",
    "    \n",
    "    return rn // interval\n",
    "\n",
    "# equivalent to: row_number() over (partition by player_id order by game_date)\n",
    "data['rn'] = data.sort_values(by='game_date').groupby(['player_id']).cumcount()+1\n",
    "\n",
    "# bucketing row numbers into intervals of 10. i.e. 25 = 2, 45 = 4, 12 = 1, 6 = 0\n",
    "# uses the game_interval function above\n",
    "data['interval'] = data.apply(lambda x: game_interval(x['rn']),axis=1)"
   ]
  },
  {
   "cell_type": "code",
   "execution_count": 33,
   "id": "e2b40433-0973-454c-97ef-aee75291f8a0",
   "metadata": {},
   "outputs": [],
   "source": [
    "# averaging fantasy_score by player, and ten_game intervals\n",
    "grouped_games = data.groupby(['player_id','player_name','interval']).agg({'fantasy_score':['mean']})\n",
    "# rename new aggregation column to interval_avg (the rest of dataframe is set as an index)\n",
    "grouped_games.columns = ['interval_avg']\n",
    "# reset dataframe indexing to normal\n",
    "grouped_games = grouped_games.reset_index()"
   ]
  },
  {
   "cell_type": "code",
   "execution_count": 36,
   "id": "a0bf3baa-8906-45c4-abf7-e335956df093",
   "metadata": {},
   "outputs": [
    {
     "name": "stdin",
     "output_type": "stream",
     "text": [
      "Player:  devin booker\n"
     ]
    },
    {
     "name": "stdout",
     "output_type": "stream",
     "text": [
      "devin booker\n"
     ]
    },
    {
     "data": {
      "text/plain": [
       "<AxesSubplot:xlabel='interval', ylabel='interval_avg'>"
      ]
     },
     "execution_count": 36,
     "metadata": {},
     "output_type": "execute_result"
    },
    {
     "data": {
      "image/png": "[encoded data removed]",
      "text/plain": [
       "<Figure size 432x288 with 1 Axes>"
      ]
     },
     "metadata": {
      "needs_background": "light"
     },
     "output_type": "display_data"
    }
   ],
   "source": [
    "# enter a player name and get their interval avg's for 2021-22 season\n",
    "player = input('Player: ').lower()\n",
    "print(player)\n",
    "\n",
    "sns.lineplot(data=grouped_games.loc[grouped_games['player_name'].str.lower() == player],x='interval',y='interval_avg')"
   ]
  }
 ],
 "metadata": {
  "kernelspec": {
   "display_name": "nba",
   "language": "python",
   "name": "nba"
  },
  "language_info": {
   "codemirror_mode": {
    "name": "ipython",
    "version": 3
   },
   "file_extension": ".py",
   "mimetype": "text/x-python",
   "name": "python",
   "nbconvert_exporter": "python",
   "pygments_lexer": "ipython3",
   "version": "3.8.13"
  }
 },
 "nbformat": 4,
 "nbformat_minor": 5
}
