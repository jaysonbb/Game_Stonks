{
 "cells": [
  {
   "cell_type": "code",
   "execution_count": 10,
   "id": "22e8958d-6157-40e1-9f71-9f66589c9617",
   "metadata": {},
   "outputs": [],
   "source": [
    "import pandas as pd\n",
    "import seaborn as sns"
   ]
  },
  {
   "cell_type": "code",
   "execution_count": 2,
   "id": "e858ed87-6a6e-4e72-bb39-b620ec290715",
   "metadata": {},
   "outputs": [],
   "source": [
    "data = pd.read_csv('test_data/2021_fantasy_scores.csv')\n",
    "data = data[['player_id','player_name','game_id','game_date','fantasy_score','fantasy_score_cumul']]"
   ]
  },
  {
   "cell_type": "code",
   "execution_count": 4,
   "id": "dcc66cbd-f440-4cc7-86f5-57bd0090aa19",
   "metadata": {},
   "outputs": [],
   "source": [
    "def game_interval(rn):\n",
    "    if rn % 10 == 0:\n",
    "        return rn // 10 - 1\n",
    "    \n",
    "    return rn // 10\n",
    "\n",
    "data['rn'] = data.sort_values(by='game_date').groupby(['player_id']).cumcount()+1\n",
    "data['ten_games'] = data.apply(lambda x: game_interval(x['rn']),axis=1)"
   ]
  },
  {
   "cell_type": "code",
   "execution_count": 12,
   "id": "e2b40433-0973-454c-97ef-aee75291f8a0",
   "metadata": {},
   "outputs": [],
   "source": [
    "grouped_games = data.groupby(['player_id','player_name','ten_games']).agg({'fantasy_score':['mean']})\n",
    "grouped_games.columns = ['moving_10g_avg']\n",
    "grouped_games = grouped_games.reset_index()"
   ]
  },
  {
   "cell_type": "code",
   "execution_count": 22,
   "id": "a0bf3baa-8906-45c4-abf7-e335956df093",
   "metadata": {},
   "outputs": [
    {
     "name": "stdin",
     "output_type": "stream",
     "text": [
      "Player:  Al Horford\n"
     ]
    },
    {
     "data": {
      "text/plain": [
       "<AxesSubplot:xlabel='ten_games', ylabel='moving_10g_avg'>"
      ]
     },
     "execution_count": 22,
     "metadata": {},
     "output_type": "execute_result"
    },
    {
     "data": {
      "image/png": "[encoded data removed]",
      "text/plain": [
       "<Figure size 432x288 with 1 Axes>"
      ]
     },
     "metadata": {
      "needs_background": "light"
     },
     "output_type": "display_data"
    }
   ],
   "source": [
    "player = input('Player: ').lower()\n",
    "sns.lineplot(data=grouped_games.loc[grouped_games['player_name'].str.lower() == player],x='ten_games',y='moving_10g_avg')"
   ]
  },
  {
   "cell_type": "code",
   "execution_count": null,
   "id": "ed7392d8-1187-4963-9aa7-a506b62a09ed",
   "metadata": {},
   "outputs": [],
   "source": []
  }
 ],
 "metadata": {
  "kernelspec": {
   "display_name": "nba",
   "language": "python",
   "name": "nba"
  },
  "language_info": {
   "codemirror_mode": {
    "name": "ipython",
    "version": 3
   },
   "file_extension": ".py",
   "mimetype": "text/x-python",
   "name": "python",
   "nbconvert_exporter": "python",
   "pygments_lexer": "ipython3",
   "version": "3.8.13"
  }
 },
 "nbformat": 4,
 "nbformat_minor": 5
}
