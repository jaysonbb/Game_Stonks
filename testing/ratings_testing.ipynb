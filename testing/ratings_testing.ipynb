{
 "cells": [
  {
   "cell_type": "code",
   "execution_count": 16,
   "id": "c16f3550-d0cc-4240-99c3-2c1676af89c9",
   "metadata": {},
   "outputs": [],
   "source": [
    "from nba_api.stats.endpoints import teamgamelogs\n",
    "import pandas as pd\n",
    "import datetime as dt"
   ]
  },
  {
   "cell_type": "code",
   "execution_count": 22,
   "id": "be4a98c3-a525-405f-bbd4-923fe136238c",
   "metadata": {},
   "outputs": [],
   "source": [
    "team = teamgamelogs.TeamGameLogs(season_nullable='2021-22').get_data_frames()[0]\n",
    "team.columns = [col.lower() for col in team.columns]\n",
    "team['game_id'] = team['game_id'].str[2:]\n",
    "team = team.drop_duplicates(subset=['game_id'])\n",
    "\n",
    "# this will be useful later on\n",
    "# team_abbr = {\n",
    "#     'MEM':'Memphis Grizzlies',\n",
    "#     'IND':'Indiana Pacers',\n",
    "#     'ORL':'Orlando Magic',\n",
    "#     'DEN':'Denver Nuggets',\n",
    "#     'LAL':'Los Angeles Lakers',\n",
    "#     'TOR':'Toronto Raptors',\n",
    "#     'CHI':'Chicago Bulls',\n",
    "#     'SAC':'Sacramento Kings',\n",
    "#     'BKN':'Brooklyn Nets',\n",
    "#     'DET':'Detroit Pistons',\n",
    "#     'PHI':'Philadelphia 76ers',\n",
    "#     'MIL':'Milwaukee Bucks',\n",
    "#     'POR':'Portland Trail Blazers',\n",
    "#     'NYK':'New York Knicks',\n",
    "#     'MIA':'Miami Heat',\n",
    "#     'BOS':'Boston Celtics',\n",
    "#     'UTA':'Utah Jazz',\n",
    "#     'GSWL':'Golden State Warriors',\n",
    "#     'SAS':'San Antonio Spurs',\n",
    "#     'DAL':'Dallas Mavericks',\n",
    "#     'LAC':'LA Clippers',\n",
    "#     'CLE':'Cleveland Cavaliers',\n",
    "#     'WAS':'Washington Wizards',\n",
    "#     'MIN':'Minnesota Timberwolves',\n",
    "#     'HOU':'Houston Rockets',\n",
    "#     'PHX':'Phoenix Suns',\n",
    "#     'OKC':'Oklahoma City Thunder',\n",
    "#     'CHAR':'Charlotte Hornets',\n",
    "#     'ATL':'Atlanta Hawks',\n",
    "#     'NOP':'New Orleans Pelicans'\n",
    "# }"
   ]
  },
  {
   "cell_type": "code",
   "execution_count": 23,
   "id": "37a868dc-ed8f-4fa8-b60d-aa28553275ef",
   "metadata": {},
   "outputs": [],
   "source": [
    "# read data and prep columns/data types\n",
    "df = pd.read_csv('test_data/2021_game_logs.csv')\n",
    "df = df.drop(['season_id','video_available','game_date'],axis='columns')\n",
    "df['game_id'] = df['game_id'].astype(str)"
   ]
  },
  {
   "cell_type": "code",
   "execution_count": 24,
   "id": "80ca0638-7eec-4725-b305-8ba1abafed02",
   "metadata": {},
   "outputs": [],
   "source": [
    "# calculate fantasy scores for each player game log\n",
    "df['fantasy_score'] = (df.fg3m*3 +\n",
    "                      df.fgm*2 + \n",
    "                      ((df.fg3a + df.fga) - (df.fg3m + df.fgm))*-1 + \n",
    "                      df.ftm*1 +\n",
    "                      (df.fta - df.ftm)*-0.5 +\n",
    "                      df.dreb*1.2 +\n",
    "                      df.oreb*1.5 +\n",
    "                      df.ast*1.5 +\n",
    "                      df.blk*2 + \n",
    "                      df.stl*2 +\n",
    "                      df.tov*-1)\n",
    "game_log_cols = df.columns"
   ]
  },
  {
   "cell_type": "code",
   "execution_count": 25,
   "id": "0408c328-02b6-426e-8943-fedfbeea908a",
   "metadata": {},
   "outputs": [],
   "source": [
    "# get sortable game_dates from team game log\n",
    "df = df.merge(team, how='left', on='game_id', suffixes=['','_t'])\n",
    "df = df.drop([col for col in df if col != 'game_date' and col not in game_log_cols], axis='columns')\n",
    "df['game_date'] = pd.to_datetime(df['game_date'])\n",
    "df = df.sort_values(by='game_date').reset_index(drop=True)\n",
    "df.insert(4,'game_date', df.pop('game_date'))"
   ]
  },
  {
   "cell_type": "code",
   "execution_count": 26,
   "id": "37cf1d0f-c1b0-4dc3-8316-6a1d7e97d6e2",
   "metadata": {},
   "outputs": [],
   "source": [
    "# calculate fantasy score cumulative sum and merge back onto original df\n",
    "df_cumul = (df[['player_id','player_name','game_id','game_date','fantasy_score']]\n",
    "                .groupby(['player_id','player_name','game_id','game_date']).sum()\\\n",
    "                .groupby(level=0).cumsum()\n",
    "                .reset_index())\n",
    "df = (df.merge(df_cumul,how='left',on=['player_id','player_name','game_id','game_date'],suffixes=['','_cumul'])\n",
    "       .sort_values(by=['player_id','game_date'])\n",
    "       .reset_index(drop=True))"
   ]
  },
  {
   "cell_type": "code",
   "execution_count": 27,
   "id": "f192189f-2594-4a23-aa22-c72d05e9f42e",
   "metadata": {},
   "outputs": [],
   "source": [
    "# save to csv\n",
    "df.to_csv('test_data/2021_fantasy_scores.csv',index=False)"
   ]
  }
 ],
 "metadata": {
  "kernelspec": {
   "display_name": "nba",
   "language": "python",
   "name": "nba"
  },
  "language_info": {
   "codemirror_mode": {
    "name": "ipython",
    "version": 3
   },
   "file_extension": ".py",
   "mimetype": "text/x-python",
   "name": "python",
   "nbconvert_exporter": "python",
   "pygments_lexer": "ipython3",
   "version": "3.8.13"
  }
 },
 "nbformat": 4,
 "nbformat_minor": 5
}
