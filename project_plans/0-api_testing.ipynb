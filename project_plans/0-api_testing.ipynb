{
 "cells": [
  {
   "cell_type": "code",
   "execution_count": 2,
   "id": "7fc75683-25a2-4586-88e5-d3c81822f707",
   "metadata": {},
   "outputs": [],
   "source": [
    "from nba_api.stats.static import players\n",
    "from nba_api.stats.endpoints import playergamelog\n",
    "import pandas as pd\n",
    "import time\n",
    "from IPython. display import clear_output"
   ]
  },
  {
   "cell_type": "code",
   "execution_count": 3,
   "id": "a645ab82-7374-4507-8a8d-1f8dbdb6e712",
   "metadata": {},
   "outputs": [],
   "source": [
    "player_dict = players.get_active_players()"
   ]
  },
  {
   "cell_type": "code",
   "execution_count": 4,
   "id": "e122467a-4a6c-4297-857c-6b54091112d0",
   "metadata": {},
   "outputs": [
    {
     "name": "stdout",
     "output_type": "stream",
     "text": [
      "Retrieving 2021 game logs for: Christian Wood | Failure reason: ConnectionError\n",
      "Completed in 1.1196699142456055s\n",
      "\n"
     ]
    }
   ],
   "source": [
    "game_logs = []\n",
    "failures = []\n",
    "for player in player_dict:\n",
    "    player_name = player['full_name']\n",
    "    print(f'Retrieving 2021 game logs for: {player_name}')\n",
    "    try:\n",
    "        start = time.time()\n",
    "        game_log = playergamelog.PlayerGameLog(player_id=player['id'], season='2021').get_data_frames()[0]\n",
    "        print(f'Completed in {time.time()-start}s\\n')\n",
    "        game_logs.append(game_log)\n",
    "    except Exception as ex:\n",
    "        print(f'{type(ex).__name__} FAILED after {time.time() - start}s\\n')\n",
    "        failures.append((player,type(ex).__name__))\n",
    "    clear_output(wait=True)\n",
    "        \n",
    "second_failures = []\n",
    "print('--- RETRYING FAILURES ---')\n",
    "for failed in failures:\n",
    "    player = failed[0]\n",
    "    player_name = player['full_name']\n",
    "    print(f'Retrieving 2021 game logs for: {player_name} | Failure reason: {failed[1]}')\n",
    "    try:\n",
    "        start = time.time()\n",
    "        game_log = playergamelog.PlayerGameLog(player_id=player['id'], season='2021').get_data_frames()[0]\n",
    "        print(f'Completed in {time.time()-start}s\\n')\n",
    "        game_logs.append(game_log)\n",
    "    except Exception as ex:\n",
    "        print(f'{type(ex).__name__} FAILED after {time.time() - start}s\\n')\n",
    "        second_failures.append((player,type(ex).__name__))\n",
    "    clear_output(wait=True)"
   ]
  },
  {
   "cell_type": "code",
   "execution_count": 5,
   "id": "48840fc2-12d8-4649-93e0-be099404cc04",
   "metadata": {},
   "outputs": [],
   "source": [
    "master_df = pd.concat(game_logs)\n",
    "id_name = {player['id']:player['full_name'] for player in player_dict}\n",
    "master_df['Player_Name'] = master_df['Player_ID'].apply(lambda x: id_name[x])\n",
    "master_df = master_df[['SEASON_ID',\n",
    " 'Player_ID',\n",
    " 'Player_Name',\n",
    " 'Game_ID',\n",
    " 'GAME_DATE',\n",
    " 'MATCHUP',\n",
    " 'WL',\n",
    " 'MIN',\n",
    " 'FGM',\n",
    " 'FGA',\n",
    " 'FG_PCT',\n",
    " 'FG3M',\n",
    " 'FG3A',\n",
    " 'FG3_PCT',\n",
    " 'FTM',\n",
    " 'FTA',\n",
    " 'FT_PCT',\n",
    " 'OREB',\n",
    " 'DREB',\n",
    " 'REB',\n",
    " 'AST',\n",
    " 'STL',\n",
    " 'BLK',\n",
    " 'TOV',\n",
    " 'PF',\n",
    " 'PTS',\n",
    " 'PLUS_MINUS',\n",
    " 'VIDEO_AVAILABLE'\n",
    "]]\n",
    "master_df.columns = [col.lower for col in master_df.columns]\n",
    "master_df.to_csv('2021_game_logs.csv',index=False)"
   ]
  }
 ],
 "metadata": {
  "kernelspec": {
   "display_name": "nba",
   "language": "python",
   "name": "nba"
  },
  "language_info": {
   "codemirror_mode": {
    "name": "ipython",
    "version": 3
   },
   "file_extension": ".py",
   "mimetype": "text/x-python",
   "name": "python",
   "nbconvert_exporter": "python",
   "pygments_lexer": "ipython3",
   "version": "3.8.13"
  }
 },
 "nbformat": 4,
 "nbformat_minor": 5
}
