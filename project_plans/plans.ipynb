{
 "cells": [
  {
   "cell_type": "code",
   "execution_count": 3,
   "id": "0ef0237d-cd01-479e-b9ba-3df631b52b25",
   "metadata": {},
   "outputs": [
    {
     "data": {
      "text/html": [
       "<style>\n",
       "table {float:left}\n",
       "</style>\n"
      ],
      "text/plain": [
       "<IPython.core.display.HTML object>"
      ]
     },
     "metadata": {},
     "output_type": "display_data"
    }
   ],
   "source": [
    "%%html\n",
    "<style>\n",
    "table {float:left}\n",
    "</style>"
   ]
  },
  {
   "cell_type": "markdown",
   "id": "1fd77dbf-4760-49f8-8e79-8f105cf734cc",
   "metadata": {},
   "source": [
    "# Scoring"
   ]
  },
  {
   "cell_type": "markdown",
   "id": "c85fa1b1-a48e-4a83-902e-c8b24904aa66",
   "metadata": {},
   "source": [
    "## 1: Simple Fantasy Score  \n",
    "fantasy rating system  (src: https://fantasydata.com/api/fantasy-scoring-system/nba)\n",
    "\n",
    "Metric |Points |\n",
    ":------|:-----:|\n",
    "3pt Field Goals|3|\n",
    "Field Goals|2|\n",
    "Free Throws Made|1|\n",
    "Rebounds|1.2|\n",
    "Assists|1.5|\n",
    "Blocked Shots|2|\n",
    "Steals|2|\n",
    "Trunovers|-1|  \n"
   ]
  },
  {
   "cell_type": "markdown",
   "id": "6afe1380-dc6c-412f-9ba6-f29342a745a3",
   "metadata": {},
   "source": [
    "#### proposed, first iteration of simple fantasy rating system:  \n",
    "\n",
    "\n",
    "Metric |Points |\n",
    ":------|:-----:|\n",
    "3pt Field Goals|3|\n",
    "Field Goals|2|\n",
    "Field Goals Missed|-1|\n",
    "Free Throws Made|1|\n",
    "Free Throws Missed|-0.5|\n",
    "Defensive Rebound|1.2|\n",
    "Offensive Rebound|1.5|\n",
    "Assists|1.5|\n",
    "Blocked Shots|2|\n",
    "Steals|2|\n",
    "Trunovers|-1|"
   ]
  },
  {
   "cell_type": "markdown",
   "id": "31fdc31e-5817-4e5e-b14c-fb2d84021185",
   "metadata": {},
   "source": [
    "### 2: Player Value"
   ]
  },
  {
   "cell_type": "markdown",
   "id": "f0d17269-2e46-43fe-8f1b-00c174c688a0",
   "metadata": {},
   "source": [
    "I'll admit, the clustering garbage was a stretch and a bit unprofessional.  \n",
    "  \n",
    "  \n",
    "Here goes another attempt.  \n",
    "  \n",
    "  \n",
    "The goal should be to express player value as a function of fantasy scores, historical player performance, player league ranking, and eventually buying volume."
   ]
  },
  {
   "cell_type": "markdown",
   "id": "ac618dc3-4d78-48c8-8663-2d8455fbeab8",
   "metadata": {},
   "source": [
    "#### \"Pseudo Expression\""
   ]
  },
  {
   "cell_type": "markdown",
   "id": "635f72c4-0750-434f-a587-23ec9b7c2d1a",
   "metadata": {},
   "source": [
    "PV = fantasy score + historical player comparison + league rank change  \n",
    "  \n",
    "where\n",
    "  \n",
    "> fantasy score = fantasy score of latest game\n",
    "> * multiply by some constant? \n",
    "> * ex: 0.10, 0.25, or something like that. (may be necessary so the fantasy score aspect doesn't over-saturate value\n",
    "  \n",
    "> historical player comparison = player's fantasy score vs. running n game avg\n",
    "> * results in positive if above n game avg. (not including most recent game)\n",
    "> * results in negative if below n game avg. (not including most recent game)\n",
    "> * could scale w/ % difference or something\n",
    "\n",
    "> player league ranking = change in overall player ranking (running n game avg)\n",
    "> * value increases when moving up in rank\n",
    "> * value decreases when moving down\n",
    "> * could scale w/ how high/low rank is -or- compared to last year -or- tenure of player -or- idk. there's possiblities here\n",
    "  \n",
    "the demand aspect is, relatively speaking, much more complex and won't be investigated until much later in development stages (assuming this project even gets that far lol)\n",
    "\n",
    "player value would be re-calculated after each game"
   ]
  }
 ],
 "metadata": {
  "kernelspec": {
   "display_name": "nba",
   "language": "python",
   "name": "nba"
  },
  "language_info": {
   "codemirror_mode": {
    "name": "ipython",
    "version": 3
   },
   "file_extension": ".py",
   "mimetype": "text/x-python",
   "name": "python",
   "nbconvert_exporter": "python",
   "pygments_lexer": "ipython3",
   "version": "3.8.13"
  }
 },
 "nbformat": 4,
 "nbformat_minor": 5
}
