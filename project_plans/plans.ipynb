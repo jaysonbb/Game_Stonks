{
 "cells": [
  {
   "cell_type": "code",
   "execution_count": 3,
   "id": "0ef0237d-cd01-479e-b9ba-3df631b52b25",
   "metadata": {},
   "outputs": [
    {
     "data": {
      "text/html": [
       "<style>\n",
       "table {float:left}\n",
       "</style>\n"
      ],
      "text/plain": [
       "<IPython.core.display.HTML object>"
      ]
     },
     "metadata": {},
     "output_type": "display_data"
    }
   ],
   "source": [
    "%%html\n",
    "<style>\n",
    "table {float:left}\n",
    "</style>"
   ]
  },
  {
   "cell_type": "markdown",
   "id": "1fd77dbf-4760-49f8-8e79-8f105cf734cc",
   "metadata": {},
   "source": [
    "# Rating Ideas"
   ]
  },
  {
   "cell_type": "markdown",
   "id": "c85fa1b1-a48e-4a83-902e-c8b24904aa66",
   "metadata": {},
   "source": [
    "## 1: Simple Fantasy Rating  \n",
    "fantasy rating system  (src: https://fantasydata.com/api/fantasy-scoring-system/nba)\n",
    "\n",
    "Metric |Points |\n",
    ":------|:-----:|\n",
    "3pt Field Goals|3|\n",
    "Field Goals|2|\n",
    "Free Throws Made|1|\n",
    "Rebounds|1.2|\n",
    "Assists|1.5|\n",
    "Blocked Shots|2|\n",
    "Steals|2|\n",
    "Trunovers|-1|  \n"
   ]
  },
  {
   "cell_type": "markdown",
   "id": "6afe1380-dc6c-412f-9ba6-f29342a745a3",
   "metadata": {},
   "source": [
    "#### proposed, first iteration of simple fantasy rating system:  \n",
    "\n",
    "\n",
    "Metric |Points |\n",
    ":------|:-----:|\n",
    "3pt Field Goals|3|\n",
    "Field Goals|2|\n",
    "Field Goals Missed|-1|\n",
    "Free Throws Made|1|\n",
    "Free Throws Missed|-0.5|\n",
    "Defensive Rebound|1.2|\n",
    "Offensive Rebound|1.5|\n",
    "Assists|1.5|\n",
    "Blocked Shots|2|\n",
    "Steals|2|\n",
    "Trunovers|-1|"
   ]
  },
  {
   "cell_type": "markdown",
   "id": "31fdc31e-5817-4e5e-b14c-fb2d84021185",
   "metadata": {},
   "source": [
    "### 2: "
   ]
  }
 ],
 "metadata": {
  "kernelspec": {
   "display_name": "nba",
   "language": "python",
   "name": "nba"
  },
  "language_info": {
   "codemirror_mode": {
    "name": "ipython",
    "version": 3
   },
   "file_extension": ".py",
   "mimetype": "text/x-python",
   "name": "python",
   "nbconvert_exporter": "python",
   "pygments_lexer": "ipython3",
   "version": "3.8.13"
  }
 },
 "nbformat": 4,
 "nbformat_minor": 5
}
